{
 "cells": [
  {
   "cell_type": "markdown",
   "metadata": {},
   "source": [
    "# 3_consensus_clustering.ipynb\n",
    "\n",
    "This notebook performs consensus clustering on percolation participation matrices,\n",
    "identifies critical nodes, and plots the top 15% consensus nodes on an MNI brain surface."
   ]
  },
  {
   "cell_type": "code",
   "execution_count": null,
   "metadata": {},
   "outputs": [],
   "source": [
    "import os\n",
    "import numpy as np\n",
    "import pandas as pd\n",
    "import scipy.io\n",
    "from scipy.cluster.hierarchy import linkage, fcluster\n",
    "from scipy.integrate import simpson\n",
    "import matplotlib.pyplot as plt\n",
    "from nilearn import plotting"
   ]
  },
  {
   "cell_type": "code",
   "execution_count": null,
   "metadata": {},
   "outputs": [],
   "source": [
    "# === Set paths ===\n",
    "data_dir = './data'\n",
    "fig_dir = './figures/group_consensus'\n",
    "os.makedirs(fig_dir, exist_ok=True)"
   ]
  },
  {
   "cell_type": "code",
   "execution_count": null,
   "metadata": {},
   "outputs": [],
   "source": [
    "# === Load MNI coordinates (data/MNI_66_coords.txt) ===\n",
    "coords_path = os.path.join(data_dir, 'MNI_66_coords.txt')\n",
    "coords = pd.read_csv(coords_path, sep='\t', header=None).values[:, :3]\n",
    "n_nodes = coords.shape[0]"
   ]
  },
  {
   "cell_type": "code",
   "execution_count": null,
   "metadata": {},
   "outputs": [],
   "source": [
    "# === Load percolation matrices ===\n",
    "mat_paths = sorted([\n",
    "    os.path.join(data_dir, f) for f in os.listdir(data_dir)\n",
    "    if f.endswith('broadband_psi_adj_participation_in_percolation.mat')\n",
    "])\n",
    "consensus_votes = np.zeros(n_nodes)"
   ]
  },
  {
   "cell_type": "code",
   "execution_count": null,
   "metadata": {},
   "outputs": [],
   "source": [
    "# === Process each subject ===\n",
    "for path in mat_paths:\n",
    "    mat = scipy.io.loadmat(path)\n",
    "    if 'node_participation_at_percolation' not in mat:\n",
    "        continue\n",
    "    x = mat['node_participation_at_percolation'].T\n",
    "    x_non_nan = ~np.isnan(np.sum(x, axis=0))\n",
    "    d = np.diff(np.concatenate([[0], x_non_nan.astype(int), [0]]))\n",
    "    starts, ends = np.where(d == 1)[0], np.where(d == -1)[0]\n",
    "    if len(starts) == 0 or len(ends) == 0:\n",
    "        continue\n",
    "    longest = np.argmax(ends - starts)\n",
    "    x_crop = x[:, starts[longest]:ends[longest]]\n",
    "    x_crop = np.nan_to_num(x_crop)\n",
    "    flattening = -np.linspace(1 / x_crop.shape[1], 1, x_crop.shape[1])\n",
    "    weights = np.linspace(1, 1 / x_crop.shape[1], x_crop.shape[1])\n",
    "    x_flat = x_crop + flattening[np.newaxis, :]\n",
    "    x_weighted = x_flat * weights[np.newaxis, :]\n",
    "    x_weighted = np.clip(x_weighted, 0, None)\n",
    "    Z = linkage(x_weighted, method='ward')\n",
    "    labels = fcluster(Z, 2, criterion='maxclust')\n",
    "    auc_vals = np.array([simpson(x_weighted[i, :]) for i in range(x_weighted.shape[0])])\n",
    "    crit_label = np.argmax([np.mean(auc_vals[labels == l]) for l in np.unique(labels)])\n",
    "    crit_nodes = np.where(labels == crit_label + 1)[0]\n",
    "    consensus_votes[crit_nodes] += 1"
   ]
  },
  {
   "cell_type": "code",
   "execution_count": null,
   "metadata": {},
   "outputs": [],
   "source": [
    "# === Normalize consensus votes ===\n",
    "n_subs = len(mat_paths)\n",
    "consensus_score = consensus_votes / n_subs\n",
    "def binary_top_15(score):\n",
    "    threshold = np.percentile(score, 85)\n",
    "    return (score >= threshold).astype(int)\n",
    "crit_bin = binary_top_15(consensus_score)\n",
    "highlight_vals = consensus_score * crit_bin"
   ]
  },
  {
   "cell_type": "code",
   "execution_count": null,
   "metadata": {},
   "outputs": [],
   "source": [
    "# === Plot and save ===\n",
    "plotting.plot_markers(\n",
    "    node_values=highlight_vals,\n",
    "    node_coords=coords,\n",
    "    node_cmap='Reds',\n",
    "    title='Percolation-Based Consensus Top Nodes',\n",
    "    display_mode='lzr'\n",
    ")\n",
    "plt.savefig(os.path.join(fig_dir, 'percolation_consensus_top_nodes.png'), dpi=300)\n",
    "plt.close()"
   ]
  }
 ],
 "metadata": {
  "kernelspec": {
   "display_name": "Python 3",
   "language": "python",
   "name": "python3"
  },
  "language_info": {
   "name": "python",
   "version": "3.9"
  }
 },
 "nbformat": 4,
 "nbformat_minor": 2
}