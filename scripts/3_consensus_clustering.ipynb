{
 "cells": [
  {
   "cell_type": "markdown",
   "id": "b6091a74",
   "metadata": {},
   "source": [
    "# 3. Consensus Clustering\n",
    "This notebook performs consensus clustering on percolation participation matrices to identify critical nodes across subjects."
   ]
  },
  {
   "cell_type": "markdown",
   "id": "6aa8e763",
   "metadata": {},
   "source": [
    "## Imports"
   ]
  },
  {
   "cell_type": "code",
   "execution_count": null,
   "id": "fd6aa790",
   "metadata": {},
   "outputs": [],
   "source": [
    "import os\n",
    "import numpy as np\n",
    "import scipy.io\n",
    "import pandas as pd\n",
    "import matplotlib.pyplot as plt\n",
    "from scipy.cluster.hierarchy import linkage, fcluster\n",
    "from scipy.stats import zscore\n",
    "from scipy.integrate import simpson\n",
    "from nilearn import plotting"
   ]
  },
  {
   "cell_type": "markdown",
   "id": "e866a906",
   "metadata": {},
   "source": [
    "## Define helper functions"
   ]
  },
  {
   "cell_type": "code",
   "execution_count": null,
   "id": "b116e162",
   "metadata": {},
   "outputs": [],
   "source": [
    "def run_consensus_clustering(metric_matrix):\n",
    "    n_subs, n_nodes = metric_matrix.shape\n",
    "    consensus_votes = np.zeros(n_nodes)\n",
    "\n",
    "    for s in range(n_subs):\n",
    "        x = zscore(metric_matrix[s, :])\n",
    "        Z = linkage(x[:, None], method='ward')\n",
    "        labels = fcluster(Z, 2, criterion='maxclust')\n",
    "        means = [np.mean(x[labels == l]) for l in np.unique(labels)]\n",
    "        crit_label = np.argmax(means) + 1\n",
    "        crit_nodes = np.where(labels == crit_label)[0]\n",
    "        consensus_votes[crit_nodes] += 1\n",
    "\n",
    "    return consensus_votes / n_subs\n",
    "\n",
    "def binary_top_15(score):\n",
    "    threshold = np.percentile(score, 85)\n",
    "    return (score >= threshold).astype(int)"
   ]
  },
  {
   "cell_type": "markdown",
   "id": "6e78f50c",
   "metadata": {},
   "source": [
    "## Load data"
   ]
  },
  {
   "cell_type": "code",
   "execution_count": null,
   "id": "566ddeb3",
   "metadata": {},
   "outputs": [],
   "source": [
    "data_dir = '/content/drive/MyDrive/PSI_broadband'\n",
    "coords_path = os.path.join(data_dir, 'MNI_66_coords.txt')\n",
    "hub_metrics_path = os.path.join(data_dir, 'hub_metrics_all_subjects.mat')\n",
    "\n",
    "coords = pd.read_csv(coords_path, sep=\"\\t\", header=None).values[:, :3]\n",
    "n_nodes = coords.shape[0]\n",
    "\n",
    "file_paths = [os.path.join(data_dir, f) for f in os.listdir(data_dir)\n",
    "              if f.endswith('broadband_psi_adj_participation_in_percolation.mat')]"
   ]
  },
  {
   "cell_type": "markdown",
   "id": "5cc2f79c",
   "metadata": {},
   "source": [
    "## Percolation-based consensus clustering"
   ]
  },
  {
   "cell_type": "code",
   "execution_count": null,
   "id": "da402f98",
   "metadata": {},
   "outputs": [],
   "source": [
    "consensus_votes = np.zeros(n_nodes)\n",
    "\n",
    "for path in file_paths:\n",
    "    mat = scipy.io.loadmat(path)\n",
    "    if 'node_participation_at_percolation' not in mat:\n",
    "        continue\n",
    "    x = mat['node_participation_at_percolation'].T\n",
    "\n",
    "    x_non_nan = ~np.isnan(np.sum(x, axis=0))\n",
    "    D = np.diff(np.concatenate([[0], x_non_nan.astype(int), [0]]))\n",
    "    starts = np.where(D == 1)[0]\n",
    "    ends = np.where(D == -1)[0]\n",
    "    if len(starts) == 0 or len(ends) == 0:\n",
    "        continue\n",
    "    longest = np.argmax(ends - starts)\n",
    "    x_crop = x[:, starts[longest]:ends[longest]]\n",
    "    x_crop = np.nan_to_num(x_crop)\n",
    "\n",
    "    flattening = -np.linspace(1 / x_crop.shape[1], 1, x_crop.shape[1])\n",
    "    weights = np.linspace(1, 1 / x_crop.shape[1], x_crop.shape[1])\n",
    "    x_flat = x_crop + flattening[np.newaxis, :]\n",
    "    x_weighted = x_flat * weights[np.newaxis, :]\n",
    "    x_weighted = np.clip(x_weighted, 0, None)\n",
    "\n",
    "    Z = linkage(x_weighted, method='ward')\n",
    "    labels = fcluster(Z, 2, criterion='maxclust')\n",
    "    auc_vals = np.array([simpson(x_weighted[i, :]) for i in range(x_weighted.shape[0])])\n",
    "    crit_label = np.argmax([np.mean(auc_vals[labels == l]) for l in np.unique(labels)])\n",
    "    crit_nodes = np.where(labels == crit_label + 1)[0]\n",
    "    consensus_votes[crit_nodes] += 1\n",
    "\n",
    "n_subs = len(file_paths)\n",
    "consensus_score = consensus_votes / n_subs\n",
    "crit_bin = binary_top_15(consensus_score)"
   ]
  },
  {
   "cell_type": "markdown",
   "id": "bb391956",
   "metadata": {},
   "source": [
    "## Plot consensus result"
   ]
  },
  {
   "cell_type": "code",
   "execution_count": null,
   "id": "30c844e8",
   "metadata": {},
   "outputs": [],
   "source": [
    "highlight_vals = consensus_score * crit_bin\n",
    "plotting.plot_markers(\n",
    "    node_values=highlight_vals,\n",
    "    node_coords=coords,\n",
    "    node_cmap='Reds',\n",
    "    title='Top Nodes via Percolation',\n",
    "    display_mode='lzr'\n",
    ")"
   ]
  }
 ],
 "metadata": {},
 "nbformat": 4,
 "nbformat_minor": 5
}
